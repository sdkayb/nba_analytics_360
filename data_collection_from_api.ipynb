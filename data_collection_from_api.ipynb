{
 "cells": [
  {
   "cell_type": "markdown",
   "id": "bfb53e62",
   "metadata": {},
   "source": [
    "## importing necessary libraries:"
   ]
  },
  {
   "cell_type": "code",
   "execution_count": 4,
   "id": "d1f89645",
   "metadata": {
    "ExecuteTime": {
     "end_time": "2023-05-08T00:36:17.881167Z",
     "start_time": "2023-05-08T00:36:17.458884Z"
    }
   },
   "outputs": [],
   "source": [
    "import pandas as pd\n",
    "import requests\n",
    "import json\n",
    "\n",
    "import psycopg2\n",
    "import psycopg2.extras as extras\n",
    "import pytz"
   ]
  },
  {
   "cell_type": "markdown",
   "id": "9526eb8f",
   "metadata": {},
   "source": [
    "## Data Collection from BALLDONTLIE API : "
   ]
  },
  {
   "cell_type": "markdown",
   "id": "791f5ab3",
   "metadata": {},
   "source": [
    "### PLAYERS DATA :"
   ]
  },
  {
   "cell_type": "code",
   "execution_count": 156,
   "id": "220147a4",
   "metadata": {
    "ExecuteTime": {
     "end_time": "2023-05-09T13:32:39.159037Z",
     "start_time": "2023-05-09T13:32:38.610311Z"
    }
   },
   "outputs": [],
   "source": [
    "#call api for \"PLAYERS\" data : 1) read \"final_counters\" file to read the last page form where we will retreive data\n",
    "\n",
    "players_data = []\n",
    "\n",
    "players_url = \"https://www.balldontlie.io/api/v1/players\"\n",
    "per_page = 100\n",
    "# read final_counter_file content and asign it to counter variable : \n",
    "\n",
    "with open(\"final_counter.txt\",'r') as f : \n",
    "    final_counter = (json.load(f)[\"players_final_counter\"])\n",
    "    counter = final_counter + 1\n",
    "\n",
    "while type(counter) is int : \n",
    "    players_call = requests.get(f\"{players_url}?per_page={per_page}&page={counter}\")\n",
    "    players_data.extend(players_call.json()[\"data\"])\n",
    "    \n",
    "    if players_call.json()[\"meta\"][\"next_page\"] is not int and len(players_data)>0:\n",
    "        final_counter = counter\n",
    "        \n",
    "    counter = players_call.json()[\"meta\"][\"next_page\"]\n",
    "\n",
    "players_df = pd.json_normalize(players_data)\n",
    "\n",
    "# update final_counter_file value:\n",
    "with open(\"final_counter.txt\", \"w\") as f: \n",
    "    f.write(f\"{{\\\"players_final_counter\\\" : {final_counter}}} \")\n"
   ]
  },
  {
   "cell_type": "code",
   "execution_count": 35,
   "id": "9f28ab73",
   "metadata": {
    "ExecuteTime": {
     "end_time": "2023-05-08T02:10:19.451212Z",
     "start_time": "2023-05-08T02:10:19.436292Z"
    }
   },
   "outputs": [],
   "source": [
    "players_df = players_df[[\"id\", \"first_name\" , \"last_name\", \"position\", \"height_feet\", \"height_inches\", \"weight_pounds\", \"team.id\", \"team.abbreviation\", \"team.city\", \"team.conference\", \"team.division\", \"team.name\", \"team.full_name\"]]"
   ]
  },
  {
   "cell_type": "markdown",
   "id": "66421b7f",
   "metadata": {},
   "source": [
    "## Connecting to Postgres DataBase : "
   ]
  },
  {
   "cell_type": "markdown",
   "id": "fd4bc8f6",
   "metadata": {},
   "source": [
    "### Inserting Data Into PLAYERS Table :"
   ]
  },
  {
   "cell_type": "code",
   "execution_count": 88,
   "id": "1230626d",
   "metadata": {
    "ExecuteTime": {
     "end_time": "2023-05-08T13:08:19.910588Z",
     "start_time": "2023-05-08T13:08:19.561901Z"
    }
   },
   "outputs": [],
   "source": [
    "connection, cursor = None, None\n",
    "\n",
    "tuples = [tuple(x) for x in players_df.to_numpy()]\n",
    "\n",
    "cols = \",\".join(players_df.columns.to_list()).replace(\".\", \"_\")\n",
    "\n",
    "table_name = \"players\"\n",
    "\n",
    "try : \n",
    "    connection = psycopg2.connect(user = \"postgres\", \n",
    "                                  password=\"postgrepass\", \n",
    "                                  host=\"localhost\", \n",
    "                                  port=\"5432\", \n",
    "                                  database=\"nba\")\n",
    "    cursor = connection.cursor()\n",
    "\n",
    "    create_table_script = f''' CREATE TABLE IF NOT EXISTS {table_name}(\n",
    "                            id integer,\n",
    "                            first_name varchar,\n",
    "                            last_name varchar,\n",
    "                            position varchar,\n",
    "                            height_feet float,\n",
    "                            height_inches float,\n",
    "                            weight_pounds float,\n",
    "                            team_id integer,\n",
    "                            team_abbreviation varchar,\n",
    "                            team_city varchar,\n",
    "                            team_conference varchar,\n",
    "                            team_division varchar,\n",
    "                            team_name varchar,\n",
    "                            team_full_name varchar)'''\n",
    "    \n",
    "    cursor.execute(create_table_script)\n",
    "    \n",
    "    insert_data_script = f''' INSERT INTO players ({cols}) VALUES %s ON CONFLICT DO NOTHING ''' \n",
    "     \n",
    "    # Execute the query with the data using execute_values() method\n",
    "    extras.execute_values(cursor, insert_data_script, tuples)\n",
    "    \n",
    "    connection.commit()\n",
    "    \n",
    "except Exception as error:\n",
    "    print(error)\n",
    "finally :\n",
    "    if cursor is not None: \n",
    "        cursor.close()\n",
    "    if connection is not None: \n",
    "        connection.close()\n",
    "\n"
   ]
  }
 ],
 "metadata": {
  "kernelspec": {
   "display_name": "Python 3 (ipykernel)",
   "language": "python",
   "name": "python3"
  },
  "language_info": {
   "codemirror_mode": {
    "name": "ipython",
    "version": 3
   },
   "file_extension": ".py",
   "mimetype": "text/x-python",
   "name": "python",
   "nbconvert_exporter": "python",
   "pygments_lexer": "ipython3",
   "version": "3.9.12"
  },
  "toc": {
   "base_numbering": 1,
   "nav_menu": {},
   "number_sections": true,
   "sideBar": true,
   "skip_h1_title": false,
   "title_cell": "Table of Contents",
   "title_sidebar": "Contents",
   "toc_cell": false,
   "toc_position": {},
   "toc_section_display": true,
   "toc_window_display": false
  }
 },
 "nbformat": 4,
 "nbformat_minor": 5
}
