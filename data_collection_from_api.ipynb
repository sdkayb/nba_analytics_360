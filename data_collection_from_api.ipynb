{
 "cells": [
  {
   "cell_type": "markdown",
   "id": "0eab8b2e",
   "metadata": {},
   "source": [
    "# NBA Analytics 360"
   ]
  },
  {
   "cell_type": "markdown",
   "id": "9de78b43",
   "metadata": {},
   "source": [
    "## Importing necessary libraries:"
   ]
  },
  {
   "cell_type": "code",
   "execution_count": 7,
   "id": "1a008a86",
   "metadata": {
    "ExecuteTime": {
     "end_time": "2023-05-11T18:22:28.114292Z",
     "start_time": "2023-05-11T18:22:28.098008Z"
    }
   },
   "outputs": [],
   "source": [
    "import pandas as pd\n",
    "import requests\n",
    "import json\n",
    "\n",
    "import time\n",
    "\n",
    "import psycopg2\n",
    "import psycopg2.extras as extras"
   ]
  },
  {
   "cell_type": "markdown",
   "id": "c3953fe1",
   "metadata": {},
   "source": [
    "## Data Collection from BALLDONTLIE API : "
   ]
  },
  {
   "cell_type": "markdown",
   "id": "46aafa6c",
   "metadata": {},
   "source": [
    "### main function for data fetching:"
   ]
  },
  {
   "cell_type": "code",
   "execution_count": 8,
   "id": "520e3bf4",
   "metadata": {
    "ExecuteTime": {
     "end_time": "2023-05-11T18:24:57.783328Z",
     "start_time": "2023-05-11T18:24:57.772345Z"
    },
    "code_folding": [
     0
    ]
   },
   "outputs": [],
   "source": [
    "def fetch_data_with_counter(data_type, url=\"https://www.balldontlie.io/api/v1\", per_page=100, counter=None, last_counter=None):\n",
    "    data = []\n",
    "    requests_made = 0\n",
    "    start_time = time.time()\n",
    "    #loading value of final_counter to continue extraction from where we left:\n",
    "    with open(\"final_counter.txt\",'r') as f : \n",
    "        file_content = json.load(f)\n",
    "    if counter is None:\n",
    "            final_counter = (file_content[f\"{data_type}_final_counter\"])\n",
    "            counter = final_counter + 1\n",
    "\n",
    "    if last_counter is None:\n",
    "        #while loop fetching all data available : \n",
    "        while type(counter) is int : \n",
    "            # GET request to the API with the specified URL and parameters stored in \"call\" variable :\n",
    "            call = requests.get(f\"{url}/{data_type}?per_page={per_page}&page={counter}\")\n",
    "            requests_made += 1\n",
    "            # Extend the \"data\" list with retrieved data from API\n",
    "            data.extend(call.json()[\"data\"])\n",
    "\n",
    "            # update \"final_counter\" if the \"next_page\" value is not an integer and the \"data\" list is not empty\n",
    "            if call.json()[\"meta\"][\"next_page\"] is not int and len(data)>0:\n",
    "                final_counter = counter\n",
    "\n",
    "            counter = call.json()[\"meta\"][\"next_page\"]\n",
    "            if requests_made == 60:\n",
    "                print(len(games_data))\n",
    "                elapsed_time = time.time() - start_time\n",
    "                if elapsed_time < 60:\n",
    "                    time.sleep(60 - elapsed_time)\n",
    "                start_time = time.time()\n",
    "                requests_made = 0\n",
    "    else : \n",
    "        #while loop fetching all data available : \n",
    "        while counter<=last_counter : \n",
    "            # GET request to the API with the specified URL and parameters stored in \"call\" variable :\n",
    "            call = requests.get(f\"{url}/{data_type}?per_page={per_page}&page={counter}\")\n",
    "            # Extend the \"data\" list with retrieved data from the API\n",
    "            data.extend(call.json()[\"data\"])\n",
    "\n",
    "            # update \"final_counter\" if the \"next_page\" value is not an integer and the \"data\" list is not empty\n",
    "            if call.json()[\"meta\"][\"next_page\"] is not int and len(data)>0:\n",
    "                final_counter = counter\n",
    "\n",
    "            counter = call.json()[\"meta\"][\"next_page\"]\n",
    "            \n",
    "    file_content[f\"{data_type}_final_counter\"] = final_counter\n",
    "\n",
    "    # update final_counter_file:\n",
    "    with open(\"final_counter.txt\", \"w\") as f: \n",
    "        json.dump(file_content, f)\n",
    "    \n",
    "    # turn json object into data_frame :\n",
    "    df = pd.json_normalize(data)\n",
    "    meta = call.json()[\"meta\"]\n",
    "    return df, meta"
   ]
  },
  {
   "cell_type": "markdown",
   "id": "83446399",
   "metadata": {},
   "source": [
    "### PLAYERS DATA :"
   ]
  },
  {
   "cell_type": "code",
   "execution_count": 10,
   "id": "abde2f5a",
   "metadata": {
    "ExecuteTime": {
     "end_time": "2023-05-11T23:42:24.788653Z",
     "start_time": "2023-05-11T23:42:24.740780Z"
    }
   },
   "outputs": [],
   "source": [
    "# players_df = fetch_data_with_counter(data_type=\"players\")[0]\n",
    "# players_df = players_df[[\"id\", \"first_name\" , \"last_name\", \"position\", \"height_feet\", \"height_inches\", \"weight_pounds\", \"team.id\", \"team.abbreviation\", \"team.city\", \"team.conference\", \"team.division\", \"team.name\", \"team.full_name\"]]\n",
    "players_df = pd.read_csv(\"api_data/player_data.csv\", sep=\";\")"
   ]
  },
  {
   "cell_type": "markdown",
   "id": "b48491e5",
   "metadata": {},
   "source": [
    "### TEAMS DATA :"
   ]
  },
  {
   "cell_type": "code",
   "execution_count": 11,
   "id": "0f73d43d",
   "metadata": {
    "ExecuteTime": {
     "end_time": "2023-05-11T23:42:26.303347Z",
     "start_time": "2023-05-11T23:42:26.271347Z"
    }
   },
   "outputs": [],
   "source": [
    "#teams_df = fetch_data_with_counter(data_type=\"teams\")[0]\n",
    "teams_df = pd.read_csv(\"api_data/teams_data.csv\", sep=\";\")"
   ]
  },
  {
   "cell_type": "markdown",
   "id": "dd2707a6",
   "metadata": {},
   "source": [
    "### GAMES DATA :"
   ]
  },
  {
   "cell_type": "code",
   "execution_count": 12,
   "id": "a2294093",
   "metadata": {
    "ExecuteTime": {
     "end_time": "2023-05-11T23:42:27.532463Z",
     "start_time": "2023-05-11T23:42:27.352526Z"
    }
   },
   "outputs": [],
   "source": [
    "#games_df = fetch_data_with_counter(data_type=\"games\")[0]\n",
    "games_df = pd.read_csv(\"api_data/games_data.csv\", sep=\";\")"
   ]
  },
  {
   "cell_type": "markdown",
   "id": "1cec688f",
   "metadata": {},
   "source": [
    "### STATS DATA :"
   ]
  },
  {
   "cell_type": "code",
   "execution_count": 13,
   "id": "ab85a789",
   "metadata": {
    "ExecuteTime": {
     "end_time": "2023-05-11T23:42:31.325460Z",
     "start_time": "2023-05-11T23:42:28.543893Z"
    }
   },
   "outputs": [],
   "source": [
    "#stats_df = fetch_data_with_counter(data_type=\"stats\")[0]\n",
    "stats_df = pd.read_csv(\"api_data/stats_data.csv\", sep=\";\")"
   ]
  },
  {
   "cell_type": "markdown",
   "id": "c750a649",
   "metadata": {},
   "source": [
    "## Connecting to Postgres DataBase : "
   ]
  },
  {
   "cell_type": "markdown",
   "id": "579b6178",
   "metadata": {
    "heading_collapsed": true
   },
   "source": [
    "### Inserting Data Into PLAYERS Table :"
   ]
  },
  {
   "cell_type": "code",
   "execution_count": 88,
   "id": "b3be3bd2",
   "metadata": {
    "ExecuteTime": {
     "end_time": "2023-05-08T13:08:19.910588Z",
     "start_time": "2023-05-08T13:08:19.561901Z"
    },
    "hidden": true
   },
   "outputs": [],
   "source": [
    "connection, cursor = None, None\n",
    "\n",
    "tuples = [tuple(x) for x in players_df.to_numpy()]\n",
    "\n",
    "cols = \",\".join(players_df.columns.to_list()).replace(\".\", \"_\")\n",
    "\n",
    "table_name = \"players\"\n",
    "\n",
    "try : \n",
    "    connection = psycopg2.connect(user = \"postgres\", \n",
    "                                  password=\"postgrepass\", \n",
    "                                  host=\"localhost\", \n",
    "                                  port=\"5432\", \n",
    "                                  database=\"nba\")\n",
    "    cursor = connection.cursor()\n",
    "\n",
    "    create_table_script = f''' CREATE TABLE IF NOT EXISTS {table_name}(\n",
    "                            id integer,\n",
    "                            first_name varchar,\n",
    "                            last_name varchar,\n",
    "                            position varchar,\n",
    "                            height_feet float,\n",
    "                            height_inches float,\n",
    "                            weight_pounds float,\n",
    "                            team_id integer,\n",
    "                            team_abbreviation varchar,\n",
    "                            team_city varchar,\n",
    "                            team_conference varchar,\n",
    "                            team_division varchar,\n",
    "                            team_name varchar,\n",
    "                            team_full_name varchar\n",
    "                            )'''\n",
    "    \n",
    "    cursor.execute(create_table_script)\n",
    "    \n",
    "    insert_data_script = f''' INSERT INTO players ({cols}) VALUES %s ON CONFLICT DO NOTHING ''' \n",
    "     \n",
    "    # Execute the query with the data using execute_values() method\n",
    "    extras.execute_values(cursor, insert_data_script, tuples)\n",
    "    \n",
    "    connection.commit()\n",
    "    \n",
    "except Exception as error:\n",
    "    print(error)\n",
    "finally :\n",
    "    if cursor is not None: \n",
    "        cursor.close()\n",
    "    if connection is not None: \n",
    "        connection.close()\n",
    "\n"
   ]
  },
  {
   "cell_type": "markdown",
   "id": "5b4e803b",
   "metadata": {},
   "source": [
    "### Inserting Data Into Teams Table :"
   ]
  },
  {
   "cell_type": "code",
   "execution_count": 19,
   "id": "7d843a25",
   "metadata": {
    "ExecuteTime": {
     "end_time": "2023-05-11T23:46:22.085069Z",
     "start_time": "2023-05-11T23:46:19.358478Z"
    }
   },
   "outputs": [],
   "source": [
    "connection, cursor = None, None\n",
    "\n",
    "tuples = [tuple(x) for x in teams_df.to_numpy()]\n",
    "\n",
    "cols = \",\".join(teams_df.columns.to_list()).replace(\".\", \"_\")\n",
    "\n",
    "table_name = \"teams\"\n",
    "\n",
    "try : \n",
    "    connection = psycopg2.connect(user = \"postgres\", \n",
    "                                  password=\"postgrepass\", \n",
    "                                  host=\"localhost\", \n",
    "                                  port=\"5432\", \n",
    "                                  database=\"nba\")\n",
    "    cursor = connection.cursor()\n",
    "\n",
    "    create_table_script = f''' CREATE TABLE IF NOT EXISTS {table_name}(\n",
    "                            id int,\n",
    "                            abbreviation varchar,\n",
    "                            city varchar,\n",
    "                            conference varchar,\n",
    "                            division varchar,\n",
    "                            full_name varchar,\n",
    "                            name varchar\n",
    "                            )'''\n",
    "    \n",
    "    cursor.execute(create_table_script)\n",
    "    \n",
    "    insert_data_script = f\"INSERT INTO {table_name} ({cols}) VALUES %s ON CONFLICT DO NOTHING\"\n",
    "     \n",
    "    # Execute the query with the data using execute_values() method\n",
    "    extras.execute_values(cursor, insert_data_script, tuples)\n",
    "    \n",
    "    connection.commit()\n",
    "    \n",
    "except Exception as error:\n",
    "    print(error)\n",
    "finally :\n",
    "    if cursor is not None: \n",
    "        cursor.close()\n",
    "    if connection is not None: \n",
    "        connection.close()\n",
    "\n"
   ]
  },
  {
   "cell_type": "markdown",
   "id": "fb7c11a5",
   "metadata": {
    "heading_collapsed": true
   },
   "source": [
    "### Inserting Data Into Games Table :"
   ]
  },
  {
   "cell_type": "code",
   "execution_count": 30,
   "id": "151710c2",
   "metadata": {
    "ExecuteTime": {
     "end_time": "2023-05-11T23:55:57.395501Z",
     "start_time": "2023-05-11T23:55:55.166550Z"
    },
    "hidden": true
   },
   "outputs": [],
   "source": [
    "connection, cursor = None, None\n",
    "\n",
    "tuples = [tuple(x) for x in games_df.to_numpy()]\n",
    "\n",
    "cols = \",\".join(games_df.columns.to_list()).replace(\".\", \"_\")\n",
    "\n",
    "table_name = \"games\"\n",
    "\n",
    "try : \n",
    "    connection = psycopg2.connect(user = \"postgres\", \n",
    "                                  password=\"postgrepass\", \n",
    "                                  host=\"localhost\", \n",
    "                                  port=\"5432\", \n",
    "                                  database=\"nba\")\n",
    "    cursor = connection.cursor()\n",
    "\n",
    "    create_table_script = f''' CREATE TABLE IF NOT EXISTS {table_name}(\n",
    "                            id int,\n",
    "                            date varchar,\n",
    "                            home_team_score int,\n",
    "                            period int,\n",
    "                            postseason boolean,\n",
    "                            season int,\n",
    "                            status varchar,\n",
    "                            time varchar,\n",
    "                            visitor_team_score int,\n",
    "                            home_team_id int,\n",
    "                            home_team_abbreviation varchar,\n",
    "                            home_team_city varchar,\n",
    "                            home_team_conference varchar,\n",
    "                            home_team_division varchar,\n",
    "                            home_team_full_name varchar,\n",
    "                            home_team_name varchar,\n",
    "                            visitor_team_id int,\n",
    "                            visitor_team_abbreviation varchar,\n",
    "                            visitor_team_city varchar,\n",
    "                            visitor_team_conference varchar,\n",
    "                            visitor_team_division varchar,\n",
    "                            visitor_team_full_name varchar,\n",
    "                            visitor_team_name varchar\n",
    "                            )'''\n",
    "    \n",
    "    cursor.execute(create_table_script)\n",
    "    \n",
    "    insert_data_script = f\"INSERT INTO {table_name} ({cols}) VALUES %s ON CONFLICT DO NOTHING\"\n",
    "     \n",
    "    # Execute the query with the data using execute_values() method\n",
    "    extras.execute_values(cursor, insert_data_script, tuples)\n",
    "    \n",
    "    connection.commit()\n",
    "    \n",
    "except Exception as error:\n",
    "    print(error)\n",
    "finally :\n",
    "    if cursor is not None: \n",
    "        cursor.close()\n",
    "    if connection is not None: \n",
    "        connection.close()\n",
    "\n"
   ]
  },
  {
   "cell_type": "markdown",
   "id": "ff551cd3",
   "metadata": {
    "heading_collapsed": true
   },
   "source": [
    "### Inserting Data Into Stats Table :"
   ]
  },
  {
   "cell_type": "code",
   "execution_count": 32,
   "id": "695c8bf0",
   "metadata": {
    "ExecuteTime": {
     "end_time": "2023-05-12T00:02:34.937008Z",
     "start_time": "2023-05-12T00:01:24.484351Z"
    },
    "hidden": true
   },
   "outputs": [],
   "source": [
    "connection, cursor = None, None\n",
    "\n",
    "tuples = [tuple(x) for x in stats_df.to_numpy()]\n",
    "\n",
    "cols = \",\".join(stats_df.columns.to_list()).replace(\".\", \"_\")\n",
    "\n",
    "table_name = \"stats\"\n",
    "\n",
    "try : \n",
    "    connection = psycopg2.connect(user = \"postgres\", \n",
    "                                  password=\"postgrepass\", \n",
    "                                  host=\"localhost\", \n",
    "                                  port=\"5432\", \n",
    "                                  database=\"nba\")\n",
    "    cursor = connection.cursor()\n",
    "\n",
    "    create_table_script = f''' CREATE TABLE IF NOT EXISTS {table_name}(\n",
    "                            id int,\n",
    "                            ast real,\n",
    "                            blk real,\n",
    "                            dreb real,\n",
    "                            fg3_pct real,\n",
    "                            fg3a real,\n",
    "                            fg3m real,\n",
    "                            fg_pct real,\n",
    "                            fga real,\n",
    "                            fgm real,\n",
    "                            ft_pct real,\n",
    "                            fta real,\n",
    "                            ftm real,\n",
    "                            min varchar,\n",
    "                            oreb real,\n",
    "                            pf real,\n",
    "                            pts real,\n",
    "                            reb real,\n",
    "                            stl real,\n",
    "                            turnover real,\n",
    "                            game_id int,\n",
    "                            game_date varchar,\n",
    "                            game_home_team_id int,\n",
    "                            game_home_team_score int,\n",
    "                            game_period int,\n",
    "                            game_postseason boolean,\n",
    "                            game_season int,\n",
    "                            game_status varchar,\n",
    "                            game_time varchar,\n",
    "                            game_visitor_team_id int,\n",
    "                            game_visitor_team_score int,\n",
    "                            player_id real,\n",
    "                            player_first_name varchar,\n",
    "                            player_height_feet real,\n",
    "                            player_height_inches real,\n",
    "                            player_last_name varchar,\n",
    "                            player_position varchar,\n",
    "                            player_team_id real,\n",
    "                            player_weight_pounds real,\n",
    "                            team_id int,\n",
    "                            team_abbreviation varchar,\n",
    "                            team_city varchar,\n",
    "                            team_conference varchar,\n",
    "                            team_division varchar,\n",
    "                            team_full_name varchar,\n",
    "                            team_name varchar,\n",
    "                            player real\n",
    "                            )'''\n",
    "    \n",
    "    cursor.execute(create_table_script)\n",
    "    \n",
    "    insert_data_script = f\"INSERT INTO {table_name} ({cols}) VALUES %s ON CONFLICT DO NOTHING\"\n",
    "     \n",
    "    # Execute the query with the data using execute_values() method\n",
    "    extras.execute_values(cursor, insert_data_script, tuples)\n",
    "    \n",
    "    connection.commit()\n",
    "    \n",
    "except Exception as error:\n",
    "    print(error)\n",
    "finally :\n",
    "    if cursor is not None: \n",
    "        cursor.close()\n",
    "    if connection is not None: \n",
    "        connection.close()"
   ]
  },
  {
   "cell_type": "code",
   "execution_count": null,
   "id": "e084cf28",
   "metadata": {
    "hidden": true
   },
   "outputs": [],
   "source": []
  }
 ],
 "metadata": {
  "kernelspec": {
   "display_name": "nbakrnl",
   "language": "python",
   "name": "nbakrnl"
  },
  "language_info": {
   "codemirror_mode": {
    "name": "ipython",
    "version": 3
   },
   "file_extension": ".py",
   "mimetype": "text/x-python",
   "name": "python",
   "nbconvert_exporter": "python",
   "pygments_lexer": "ipython3",
   "version": "3.9.12"
  },
  "toc": {
   "base_numbering": 1,
   "nav_menu": {},
   "number_sections": true,
   "sideBar": true,
   "skip_h1_title": false,
   "title_cell": "Table of Contents",
   "title_sidebar": "Contents",
   "toc_cell": false,
   "toc_position": {},
   "toc_section_display": true,
   "toc_window_display": false
  }
 },
 "nbformat": 4,
 "nbformat_minor": 5
}
