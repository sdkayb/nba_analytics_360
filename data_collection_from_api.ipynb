{
 "cells": [
  {
   "cell_type": "markdown",
   "id": "9de78b43",
   "metadata": {},
   "source": [
    "## importing necessary libraries:"
   ]
  },
  {
   "cell_type": "code",
   "execution_count": 157,
   "id": "1a008a86",
   "metadata": {
    "ExecuteTime": {
     "end_time": "2023-05-10T16:53:23.104035Z",
     "start_time": "2023-05-10T16:53:23.090721Z"
    }
   },
   "outputs": [],
   "source": [
    "import pandas as pd\n",
    "import requests\n",
    "import json\n",
    "import time\n",
    "import psycopg2\n",
    "import psycopg2.extras as extras\n",
    "import pytz"
   ]
  },
  {
   "cell_type": "markdown",
   "id": "c3953fe1",
   "metadata": {},
   "source": [
    "## Data Collection from BALLDONTLIE API : "
   ]
  },
  {
   "cell_type": "markdown",
   "id": "46aafa6c",
   "metadata": {},
   "source": [
    "### main function for data fetching:"
   ]
  },
  {
   "cell_type": "code",
   "execution_count": 158,
   "id": "520e3bf4",
   "metadata": {
    "ExecuteTime": {
     "end_time": "2023-05-10T16:53:42.775296Z",
     "start_time": "2023-05-10T16:53:42.728309Z"
    },
    "code_folding": [
     0
    ]
   },
   "outputs": [],
   "source": [
    "def fetch_data_with_counter(data_type, url=\"https://www.balldontlie.io/api/v1\", per_page=100, counter=None, last_counter=None):\n",
    "    data = []\n",
    "    requests_made = 0\n",
    "    start_time = time.time()\n",
    "    #loading value of final_counter to continue extraction from where we left:\n",
    "    with open(\"final_counter.txt\",'r') as f : \n",
    "        file_content = json.load(f)\n",
    "    if counter is None:\n",
    "            final_counter = (file_content[f\"{data_type}_final_counter\"])\n",
    "            counter = final_counter + 1\n",
    "\n",
    "    if last_counter is None:\n",
    "        #while loop fetching all data available : \n",
    "        while type(counter) is int : \n",
    "            # GET request to the API with the specified URL and parameters stored in \"call\" variable :\n",
    "            call = requests.get(f\"{url}/{data_type}?per_page={per_page}&page={counter}\")\n",
    "            requests_made += 1\n",
    "            # Extend the \"data\" list with retrieved data from API\n",
    "            data.extend(call.json()[\"data\"])\n",
    "\n",
    "            # update \"final_counter\" if the \"next_page\" value is not an integer and the \"data\" list is not empty\n",
    "            if call.json()[\"meta\"][\"next_page\"] is not int and len(data)>0:\n",
    "                final_counter = counter\n",
    "\n",
    "            counter = call.json()[\"meta\"][\"next_page\"]\n",
    "            if requests_made == 60:\n",
    "                print(len(games_data))\n",
    "                elapsed_time = time.time() - start_time\n",
    "                if elapsed_time < 60:\n",
    "                    time.sleep(60 - elapsed_time)\n",
    "                start_time = time.time()\n",
    "                requests_made = 0\n",
    "    else : \n",
    "        #while loop fetching all data available : \n",
    "        while counter<=last_counter : \n",
    "            # GET request to the API with the specified URL and parameters stored in \"call\" variable :\n",
    "            call = requests.get(f\"{url}/{data_type}?per_page={per_page}&page={counter}\")\n",
    "            # Extend the \"data\" list with retrieved data from API\n",
    "            data.extend(call.json()[\"data\"])\n",
    "\n",
    "            # update \"final_counter\" if the \"next_page\" value is not an integer and the \"data\" list is not empty\n",
    "            if call.json()[\"meta\"][\"next_page\"] is not int and len(data)>0:\n",
    "                final_counter = counter\n",
    "\n",
    "            counter = call.json()[\"meta\"][\"next_page\"]\n",
    "            \n",
    "    file_content[f\"{data_type}_final_counter\"] = final_counter\n",
    "\n",
    "    # update final_counter_file:\n",
    "    with open(\"final_counter.txt\", \"w\") as f: \n",
    "        json.dump(file_content, f)\n",
    "\n",
    "    df = pd.json_normalize(data)\n",
    "    meta = call.json()[\"meta\"]\n",
    "    return df, meta"
   ]
  },
  {
   "cell_type": "markdown",
   "id": "83446399",
   "metadata": {
    "heading_collapsed": true
   },
   "source": [
    "### PLAYERS DATA :"
   ]
  },
  {
   "cell_type": "code",
   "execution_count": 156,
   "id": "abde2f5a",
   "metadata": {
    "ExecuteTime": {
     "end_time": "2023-05-09T13:32:39.159037Z",
     "start_time": "2023-05-09T13:32:38.610311Z"
    },
    "hidden": true
   },
   "outputs": [],
   "source": [
    "#call api for \"PLAYERS\" data : 1) read \"final_counters\" file to read the last page form where we will retreive data\n",
    "\n",
    "players_data = []\n",
    "\n",
    "players_url = \"https://www.balldontlie.io/api/v1\"\n",
    "per_page = 100\n",
    "data_type = \"players\"\n",
    "\n",
    "# read final_counter_file content and asign it to counter variable : \n",
    "\n",
    "with open(\"final_counter.txt\",'r') as f : \n",
    "    final_counter = (json.load(f)[\"players_final_counter\"])\n",
    "    counter = final_counter + 1\n",
    "\n",
    "while type(counter) is int : \n",
    "    call = requests.get(f\"{players_url}/{data_type}?per_page={per_page}&page={counter}\")\n",
    "    players_data.extend(call.json()[\"data\"])\n",
    "    \n",
    "    if call.json()[\"meta\"][\"next_page\"] is not int and len(players_data)>0:\n",
    "        final_counter = counter\n",
    "        \n",
    "    counter = call.json()[\"meta\"][\"next_page\"]\n",
    "\n",
    "players_df = pd.json_normalize(players_data)\n",
    "\n",
    "# update final_counter_file value:\n",
    "with open(\"final_counter.txt\", \"w\") as f: \n",
    "    f.write(f\"{{\\\"players_final_counter\\\" : {final_counter}}} \")\n"
   ]
  },
  {
   "cell_type": "code",
   "execution_count": 35,
   "id": "debcae15",
   "metadata": {
    "ExecuteTime": {
     "end_time": "2023-05-08T02:10:19.451212Z",
     "start_time": "2023-05-08T02:10:19.436292Z"
    },
    "hidden": true
   },
   "outputs": [],
   "source": [
    "players_df = players_df[[\"id\", \"first_name\" , \"last_name\", \"position\", \"height_feet\", \"height_inches\", \"weight_pounds\", \"team.id\", \"team.abbreviation\", \"team.city\", \"team.conference\", \"team.division\", \"team.name\", \"team.full_name\"]]"
   ]
  },
  {
   "cell_type": "markdown",
   "id": "b48491e5",
   "metadata": {},
   "source": [
    "### TEAMS DATA :"
   ]
  },
  {
   "cell_type": "code",
   "execution_count": null,
   "id": "0f73d43d",
   "metadata": {},
   "outputs": [],
   "source": [
    "per_page\n",
    "teams = requests.get(f\"https://www.balldontlie.io/api/v1/teams?per_page=30\")\n",
    "print(teams)\n",
    "teams_data = teams.json()[\"data\"]\n",
    "teams_df = pd.json_normalize(teams_data)\n",
    "teams_df.head()"
   ]
  },
  {
   "cell_type": "markdown",
   "id": "dd2707a6",
   "metadata": {},
   "source": [
    "### GAMES DATA :"
   ]
  },
  {
   "cell_type": "markdown",
   "id": "1cec688f",
   "metadata": {},
   "source": [
    "### STATS DATA :"
   ]
  },
  {
   "cell_type": "markdown",
   "id": "c750a649",
   "metadata": {},
   "source": [
    "## Connecting to Postgres DataBase : "
   ]
  },
  {
   "cell_type": "markdown",
   "id": "579b6178",
   "metadata": {
    "heading_collapsed": true
   },
   "source": [
    "### Inserting Data Into PLAYERS Table :"
   ]
  },
  {
   "cell_type": "code",
   "execution_count": 88,
   "id": "b3be3bd2",
   "metadata": {
    "ExecuteTime": {
     "end_time": "2023-05-08T13:08:19.910588Z",
     "start_time": "2023-05-08T13:08:19.561901Z"
    },
    "hidden": true
   },
   "outputs": [],
   "source": [
    "connection, cursor = None, None\n",
    "\n",
    "tuples = [tuple(x) for x in players_df.to_numpy()]\n",
    "\n",
    "cols = \",\".join(players_df.columns.to_list()).replace(\".\", \"_\")\n",
    "\n",
    "table_name = \"players\"\n",
    "\n",
    "try : \n",
    "    connection = psycopg2.connect(user = \"postgres\", \n",
    "                                  password=\"postgrepass\", \n",
    "                                  host=\"localhost\", \n",
    "                                  port=\"5432\", \n",
    "                                  database=\"nba\")\n",
    "    cursor = connection.cursor()\n",
    "\n",
    "    create_table_script = f''' CREATE TABLE IF NOT EXISTS {table_name}(\n",
    "                            id integer,\n",
    "                            first_name varchar,\n",
    "                            last_name varchar,\n",
    "                            position varchar,\n",
    "                            height_feet float,\n",
    "                            height_inches float,\n",
    "                            weight_pounds float,\n",
    "                            team_id integer,\n",
    "                            team_abbreviation varchar,\n",
    "                            team_city varchar,\n",
    "                            team_conference varchar,\n",
    "                            team_division varchar,\n",
    "                            team_name varchar,\n",
    "                            team_full_name varchar)'''\n",
    "    \n",
    "    cursor.execute(create_table_script)\n",
    "    \n",
    "    insert_data_script = f''' INSERT INTO players ({cols}) VALUES %s ON CONFLICT DO NOTHING ''' \n",
    "     \n",
    "    # Execute the query with the data using execute_values() method\n",
    "    extras.execute_values(cursor, insert_data_script, tuples)\n",
    "    \n",
    "    connection.commit()\n",
    "    \n",
    "except Exception as error:\n",
    "    print(error)\n",
    "finally :\n",
    "    if cursor is not None: \n",
    "        cursor.close()\n",
    "    if connection is not None: \n",
    "        connection.close()\n",
    "\n"
   ]
  }
 ],
 "metadata": {
  "kernelspec": {
   "display_name": "Python 3 (ipykernel)",
   "language": "python",
   "name": "python3"
  },
  "language_info": {
   "codemirror_mode": {
    "name": "ipython",
    "version": 3
   },
   "file_extension": ".py",
   "mimetype": "text/x-python",
   "name": "python",
   "nbconvert_exporter": "python",
   "pygments_lexer": "ipython3",
   "version": "3.9.12"
  },
  "toc": {
   "base_numbering": 1,
   "nav_menu": {},
   "number_sections": true,
   "sideBar": true,
   "skip_h1_title": false,
   "title_cell": "Table of Contents",
   "title_sidebar": "Contents",
   "toc_cell": false,
   "toc_position": {},
   "toc_section_display": true,
   "toc_window_display": false
  }
 },
 "nbformat": 4,
 "nbformat_minor": 5
}
